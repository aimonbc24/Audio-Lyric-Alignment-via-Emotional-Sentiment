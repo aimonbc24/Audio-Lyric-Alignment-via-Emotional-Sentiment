{
 "cells": [
  {
   "cell_type": "code",
   "execution_count": 3,
   "metadata": {},
   "outputs": [],
   "source": [
    "lyrics1 = \"you're my world,. the shelter from the rain \"\n",
    "\n",
    "lyrics2 = \"that helps me find my way \"\n",
    "# To someone who's been with me for my whole damn life?\n",
    "# You gave me my name and the colour of your eyes\n",
    "# I see your face when I look at mine\n",
    "# So how do I, how do I, how do I say goodbye?\""
   ]
  },
  {
   "cell_type": "code",
   "execution_count": 13,
   "metadata": {},
   "outputs": [
    {
     "name": "stdout",
     "output_type": "stream",
     "text": [
      "['[\\n    \"The lyrics are expressing intense love and gratitude towards a significant other.\",\\n    \"The lyrics are about finding solace in music and art as a coping mechanism.\",\\n    \"The lyrics are seeking guidance and support in times of confusion and uncertainty.\",\\n    \"The lyrics are acknowledging comfort in silence and the presence of a trusted person.\",\\n    \"The lyrics are emphasizing the sense of honesty and authenticity in a particular relationship.\"\\n]']\n"
     ]
    }
   ],
   "source": [
    "import sys\n",
    "import os\n",
    "\n",
    "path = os.path.abspath('../Dataset/utils/')\n",
    "sys.path.insert(1, path)\n",
    "\n",
    "from sentiment_description import *\n",
    "\n",
    "gen = DescriptionGenerator()\n",
    "\n",
    "lyric1 = \"you're my world,. the shelter from the rain \"\n",
    "lyric2 = \"that take away my pain \"\n",
    "lyric3 = \"that helps me find my way \"\n",
    "lyric4 = \"when i have nothing to say \"\n",
    "lyric5 = \"where nothing else is true \"\n",
    "\n",
    "lyrics = [lyric1, lyric2, lyric3, lyric4, lyric5]\n",
    "\n",
    "response = gen.client.chat.completions.create(\n",
    "            model=\"gpt-3.5-turbo\",\n",
    "            messages=[\n",
    "            {\"role\": \"user\", \"content\": \"Here are 5 lines of lyrics from songs: {}.  Generate a 1 sentence description of the sentiment for each line. DO NOT make it conversational. Be turse. Format the output as a json list. Start each description with: The lyrics are... .\".format(lyrics)},\n",
    "            ]\n",
    "        )\n",
    "response = response.choices[0].message.content\n"
   ]
  },
  {
   "cell_type": "code",
   "execution_count": 14,
   "metadata": {},
   "outputs": [
    {
     "name": "stdout",
     "output_type": "stream",
     "text": [
      "[\n",
      "    \"The lyrics are expressing intense love and gratitude towards a significant other.\",\n",
      "    \"The lyrics are about finding solace in music and art as a coping mechanism.\",\n",
      "    \"The lyrics are seeking guidance and support in times of confusion and uncertainty.\",\n",
      "    \"The lyrics are acknowledging comfort in silence and the presence of a trusted person.\",\n",
      "    \"The lyrics are emphasizing the sense of honesty and authenticity in a particular relationship.\"\n",
      "]\n"
     ]
    }
   ],
   "source": [
    "\n",
    "print(response)"
   ]
  }
 ],
 "metadata": {
  "kernelspec": {
   "display_name": "Python 3",
   "language": "python",
   "name": "python3"
  },
  "language_info": {
   "codemirror_mode": {
    "name": "ipython",
    "version": 3
   },
   "file_extension": ".py",
   "mimetype": "text/x-python",
   "name": "python",
   "nbconvert_exporter": "python",
   "pygments_lexer": "ipython3",
   "version": "3.11.7"
  }
 },
 "nbformat": 4,
 "nbformat_minor": 2
}
