{
 "cells": [
  {
   "cell_type": "code",
   "execution_count": 3,
   "metadata": {},
   "outputs": [],
   "source": [
    "lyrics1 = \"you're my world,. the shelter from the rain \"\n",
    "\n",
    "lyrics2 = \"that helps me find my way \"\n",
    "# To someone who's been with me for my whole damn life?\n",
    "# You gave me my name and the colour of your eyes\n",
    "# I see your face when I look at mine\n",
    "# So how do I, how do I, how do I say goodbye?\""
   ]
  },
  {
   "cell_type": "code",
   "execution_count": 12,
   "metadata": {},
   "outputs": [
    {
     "name": "stdout",
     "output_type": "stream",
     "text": [
      "[\"The lyrics are about being confident and unapologetic in one's actions and decisions. \", \"The lyrics are about the difficult process of letting go of someone who has been a central figure in one's life.\"]\n"
     ]
    }
   ],
   "source": [
    "import sys\n",
    "import os\n",
    "\n",
    "path = os.path.abspath('../Dataset/utils/')\n",
    "sys.path.insert(1, path)\n",
    "\n",
    "from sentiment_description import *\n",
    "\n",
    "gen = DescriptionGenerator()\n",
    "\n",
    "response = gen.client.chat.completions.create(\n",
    "            model=\"gpt-3.5-turbo\",\n",
    "            messages=[\n",
    "            {\"role\": \"user\", \"content\": f\"Here are two lines of lyrics from a song: \\\"{lyrics1}\\\" and \\\"{lyrics2}\\\".  Generate a 1 sentence description of the sentiment of each line? DO NOT make it conversational. Be turse. Start it with: The lyrics are... and add \\\"END\\\" without a newline character after the first description\"},\n",
    "            ]\n",
    "        )\n",
    "response = response.choices[0].message.content\n",
    "\n",
    "print(response.split(\"END \\n\"))"
   ]
  }
 ],
 "metadata": {
  "kernelspec": {
   "display_name": "Python 3",
   "language": "python",
   "name": "python3"
  },
  "language_info": {
   "codemirror_mode": {
    "name": "ipython",
    "version": 3
   },
   "file_extension": ".py",
   "mimetype": "text/x-python",
   "name": "python",
   "nbconvert_exporter": "python",
   "pygments_lexer": "ipython3",
   "version": "3.11.7"
  }
 },
 "nbformat": 4,
 "nbformat_minor": 2
}
