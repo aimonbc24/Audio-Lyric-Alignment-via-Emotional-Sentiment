{
 "cells": [
  {
   "cell_type": "code",
   "execution_count": 4,
   "metadata": {},
   "outputs": [],
   "source": [
    "lyrics1 = \"Four in the mornin', and I'm zonin'\\nThey say I'm possessed, it's an omen\\nI keep it 300, like the Romans\\n300 bitches, where the Trojans?\\nBaby, we livin' in the moment\\nI've been a menace for the longest\\nBut I ain't finished, I'm devoted\\nAnd you know it, and you know it\"\n",
    "\n",
    "lyrics2 = \"So how do I say goodbye\\nTo someone who's been with me for my whole damn life?\\nYou gave me my name and the colour of your eyes\\nI see your face when I look at mine\\nSo how do I, how do I, how do I say goodbye?\"\n",
    "# To someone who's been with me for my whole damn life?\n",
    "# You gave me my name and the colour of your eyes\n",
    "# I see your face when I look at mine\n",
    "# So how do I, how do I, how do I say goodbye?\""
   ]
  },
  {
   "cell_type": "code",
   "execution_count": 5,
   "metadata": {},
   "outputs": [
    {
     "name": "stdout",
     "output_type": "stream",
     "text": [
      "The lyrics are boasting of living in the present moment and being unapologetically devoted to their lifestyle, despite being labeled as a menace by others. The speaker exudes confidence and a sense of power in their actions and attitude.\n"
     ]
    }
   ],
   "source": [
    "from utils import *\n",
    "\n",
    "generator = DescriptionGenerator()\n",
    "\n",
    "print(generator.generate(lyrics1))"
   ]
  }
 ],
 "metadata": {
  "kernelspec": {
   "display_name": "Python 3",
   "language": "python",
   "name": "python3"
  },
  "language_info": {
   "codemirror_mode": {
    "name": "ipython",
    "version": 3
   },
   "file_extension": ".py",
   "mimetype": "text/x-python",
   "name": "python",
   "nbconvert_exporter": "python",
   "pygments_lexer": "ipython3",
   "version": "3.11.7"
  }
 },
 "nbformat": 4,
 "nbformat_minor": 2
}
