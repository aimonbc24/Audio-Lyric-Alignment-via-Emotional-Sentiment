{
 "cells": [
  {
   "cell_type": "markdown",
   "metadata": {},
   "source": [
    "## Generating The Sentiment Descriptions"
   ]
  },
  {
   "cell_type": "code",
   "execution_count": 2,
   "metadata": {},
   "outputs": [
    {
     "name": "stdout",
     "output_type": "stream",
     "text": [
      "/home/donovan/code/cse447/Audio-to-Language-Alignment-via-Musical-Sentiment/Dataset/data\n",
      "Num segments: 65981\n",
      "Segment batch:  0 12\n",
      "Thread 0 started\n",
      "Segment batch:  12 24\n",
      "Thread 1 started\n",
      "Segment batch:  24 36\n",
      "Thread 2 started\n",
      "Segment batch:  36 48\n",
      "Thread 3 started\n",
      "Segment batch:  48 60\n",
      "Thread 4 started\n",
      "Segment batch:  60 72\n",
      "Thread 5 started\n",
      "Segment batch:  72 84\n",
      "Thread 6 started\n",
      "Segment batch:  84 96\n",
      "Thread 7 started\n",
      "Segment batch:  96 108\n",
      "Thread 8 started\n",
      "Segment batch:  108 120\n",
      "Thread 9 started\n",
      "Segment batch:  120 132\n",
      "Thread 10 started\n",
      "Segment batch:  132 144\n",
      "Thread 11 started\n",
      "Segment batch:  144 156\n",
      "Thread 12 started\n",
      "Segment batch:  156 168\n",
      "Thread 13 started\n",
      "Segment batch:  168 180\n",
      "Thread 14 started\n",
      "Segment batch:  180 200\n",
      "Thread 15 started\n"
     ]
    },
    {
     "name": "stderr",
     "output_type": "stream",
     "text": [
      "100%|██████████| 16/16 [00:11<00:00,  1.41it/s]"
     ]
    },
    {
     "name": "stdout",
     "output_type": "stream",
     "text": [
      "multi-threaded time to run: 11.997426748275757\n"
     ]
    },
    {
     "name": "stderr",
     "output_type": "stream",
     "text": [
      "\n"
     ]
    }
   ],
   "source": [
    "import sys\n",
    "import os\n",
    "path = os.path.abspath('../Dataset/utils/')\n",
    "sys.path.insert(1, path)\n",
    "import time\n",
    "\n",
    "\n",
    "from sentiment_description import *\n",
    "\n",
    "path = os.path.abspath('../Dataset/data')\n",
    "print(path)\n",
    "\n",
    "file_name = '/segments.json'\n",
    "\n",
    "start_time = time.time()\n",
    "threaded_create_segment_descriptions(path=path, file_name=file_name, num_threads=16, debug=True)\n",
    "end_time = time.time()\n",
    "multi_elapsed_time = end_time - start_time\n",
    "print(f\"multi-threaded time to run: {multi_elapsed_time}\")"
   ]
  },
  {
   "cell_type": "markdown",
   "metadata": {},
   "source": [
    "## Depricated Versions"
   ]
  },
  {
   "cell_type": "code",
   "execution_count": 3,
   "metadata": {},
   "outputs": [
    {
     "name": "stdout",
     "output_type": "stream",
     "text": [
      "type of segments: <class 'list'>\n",
      "0\n",
      "1\n",
      "2\n",
      "3\n",
      "4\n",
      "5\n",
      "6\n",
      "7\n",
      "8\n",
      "9\n",
      "10\n",
      "11\n",
      "12\n",
      "13\n",
      "14\n",
      "15\n",
      "16\n",
      "17\n",
      "18\n",
      "19\n",
      "20\n",
      "21\n",
      "22\n",
      "23\n",
      "24\n",
      "length of queue: 1\n",
      "type of segments: <class 'list'>\n",
      "0\n",
      "0\n",
      "0\n",
      "0\n",
      "0\n",
      "0\n",
      "0\n",
      "0\n",
      "0\n",
      "0\n",
      "0\n",
      "0\n",
      "0\n",
      "0\n",
      "0\n",
      "0\n",
      "1\n",
      "1\n",
      "1\n",
      "1\n",
      "1\n",
      "1\n",
      "1\n",
      "1\n",
      "1\n",
      "length of queue: 16\n",
      "single threaded time to run: 26.959792852401733\n",
      "multi-threaded time to run: 2.6638636589050293\n"
     ]
    }
   ],
   "source": [
    "start_time = time.time()\n",
    "threaded_create_segment_descriptions(path=path, num_threads=1, debug=True)\n",
    "end_time = time.time()\n",
    "single_elapsed_time = end_time - start_time\n",
    "\n",
    "\n",
    "\n"
   ]
  },
  {
   "cell_type": "code",
   "execution_count": 4,
   "metadata": {},
   "outputs": [
    {
     "name": "stdout",
     "output_type": "stream",
     "text": [
      "8\n"
     ]
    }
   ],
   "source": [
    "import multiprocessing\n",
    "\n",
    "cores = multiprocessing.cpu_count()\n",
    "print(cores)"
   ]
  },
  {
   "cell_type": "markdown",
   "metadata": {},
   "source": [
    "### Debugging"
   ]
  },
  {
   "cell_type": "code",
   "execution_count": 6,
   "metadata": {},
   "outputs": [
    {
     "name": "stderr",
     "output_type": "stream",
     "text": [
      "100%|██████████| 5/5 [00:06<00:00,  1.21s/it]\n"
     ]
    }
   ],
   "source": [
    "create_segment_descriptions(path=path, debug=True)"
   ]
  }
 ],
 "metadata": {
  "kernelspec": {
   "display_name": "Python 3",
   "language": "python",
   "name": "python3"
  },
  "language_info": {
   "codemirror_mode": {
    "name": "ipython",
    "version": 3
   },
   "file_extension": ".py",
   "mimetype": "text/x-python",
   "name": "python",
   "nbconvert_exporter": "python",
   "pygments_lexer": "ipython3",
   "version": "3.11.7"
  }
 },
 "nbformat": 4,
 "nbformat_minor": 2
}
